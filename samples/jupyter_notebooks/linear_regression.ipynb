{
 "cells": [
  {
   "cell_type": "markdown",
   "metadata": {},
   "source": [
    "Notebook showing linear regression with tensor_stream"
   ]
  },
  {
   "cell_type": "code",
   "execution_count": 1,
   "metadata": {},
   "outputs": [
    {
     "data": {
      "text/plain": [
       "true"
      ]
     },
     "execution_count": 1,
     "metadata": {},
     "output_type": "execute_result"
    }
   ],
   "source": [
    "require 'tensor_stream'"
   ]
  },
  {
   "cell_type": "markdown",
   "metadata": {},
   "source": [
    "Setup leraning parameters"
   ]
  },
  {
   "cell_type": "code",
   "execution_count": 2,
   "metadata": {},
   "outputs": [
    {
     "data": {
      "text/plain": [
       "50"
      ]
     },
     "execution_count": 2,
     "metadata": {},
     "output_type": "execute_result"
    }
   ],
   "source": [
    "ts = TensorStream # assign module to var so we don't have to type so much\n",
    "\n",
    "learning_rate = 0.01\n",
    "momentum = 0.5\n",
    "training_epochs = 1000\n",
    "display_step = 50"
   ]
  },
  {
   "cell_type": "markdown",
   "metadata": {},
   "source": [
    "Prepare training and test data"
   ]
  },
  {
   "cell_type": "code",
   "execution_count": 3,
   "metadata": {},
   "outputs": [
    {
     "data": {
      "text/plain": [
       "17"
      ]
     },
     "execution_count": 3,
     "metadata": {},
     "output_type": "execute_result"
    }
   ],
   "source": [
    "# Setup training data\n",
    "\n",
    "train_X = [3.3,4.4,5.5,6.71,6.93,4.168,9.779,6.182,7.59,2.167,\n",
    "7.042,10.791,5.313,7.997,5.654,9.27,3.1]\n",
    "train_Y = [1.7,2.76,2.09,3.19,1.694,1.573,3.366,2.596,2.53,1.221,\n",
    "2.827,3.465,1.65,2.904,2.42,2.94,1.3]\n",
    "\n",
    "# Store number of samples\n",
    "n_samples = train_X.size"
   ]
  },
  {
   "cell_type": "markdown",
   "metadata": {},
   "source": [
    "Build the odel with two scalar variables w and b"
   ]
  },
  {
   "cell_type": "code",
   "execution_count": 4,
   "metadata": {},
   "outputs": [
    {
     "data": {
      "text/plain": [
       "Op(div name: div shape: ? data_type: float32)"
      ]
     },
     "execution_count": 4,
     "metadata": {},
     "output_type": "execute_result"
    }
   ],
   "source": [
    "X = Float.placeholder\n",
    "Y = Float.placeholder\n",
    "\n",
    "# Set model weights\n",
    "\n",
    "W = rand.t.var name: \"weight\"\n",
    "b = rand.t.var name: \"bias\"\n",
    "\n",
    "# Construct a linear model\n",
    "pred = X * W + b\n",
    "\n",
    "# Mean squared error\n",
    "cost = ((pred - Y) ** 2).reduce / ( 2 * n_samples)"
   ]
  },
  {
   "cell_type": "markdown",
   "metadata": {},
   "source": [
    "Set Optimizer as SGD"
   ]
  },
  {
   "cell_type": "code",
   "execution_count": 5,
   "metadata": {},
   "outputs": [
    {
     "data": {
      "text/plain": [
       "Op(flow_group name: GradientDescent/flow_group shape: TensorShape([Dimension(2)]) data_type: )"
      ]
     },
     "execution_count": 5,
     "metadata": {},
     "output_type": "execute_result"
    }
   ],
   "source": [
    "optimizer = TensorStream::Train::GradientDescentOptimizer.new(learning_rate).minimize(cost)"
   ]
  },
  {
   "cell_type": "code",
   "execution_count": 9,
   "metadata": {
    "scrolled": true
   },
   "outputs": [
    {
     "data": {
      "text/plain": [
       "#<TensorStream::Session:0x000055d21c13dbe0 @thread_pool=#<Concurrent::ImmediateExecutor:0x000055d21c13db18 @stopped=#<Concurrent::Event:0x000055d21c13daa0 @__Lock__=#<Thread::Mutex:0x000055d21c13da50>, @__Condition__=#<Thread::ConditionVariable:0x000055d21c13da28>, @set=false, @iteration=0>>, @closed=false, @session_cache={}, @randomizer={}, @log_device_placement=false, @evaluator_options={:profile_enabled=>false}, @evaluator_classes=[TensorStream::Evaluator::RubyEvaluator], @evaluators={}>"
      ]
     },
     "execution_count": 9,
     "metadata": {},
     "output_type": "execute_result"
    }
   ],
   "source": [
    "sess = ts.session"
   ]
  },
  {
   "cell_type": "markdown",
   "metadata": {},
   "source": [
    "Defi"
   ]
  },
  {
   "cell_type": "code",
   "execution_count": 10,
   "metadata": {},
   "outputs": [
    {
     "data": {
      "text/plain": [
       "Op(flow_group name: /flow_group_1 shape: TensorShape([Dimension(2)]) data_type: )"
      ]
     },
     "execution_count": 10,
     "metadata": {},
     "output_type": "execute_result"
    }
   ],
   "source": [
    "# Initialize the variables (i.e. assign their default value)\n",
    "init = ts.global_variables_initializer()"
   ]
  },
  {
   "cell_type": "code",
   "execution_count": 12,
   "metadata": {},
   "outputs": [
    {
     "name": "stdout",
     "output_type": "stream",
     "text": [
      "Epoch:\n",
      "0050\n",
      "cost=\n",
      "0.08361721120294868\n",
      "W=\n",
      "0.29528699916245393\n",
      "b=\n",
      "0.4727514024197094\n",
      "Epoch:\n",
      "0100\n",
      "cost=\n",
      "0.08284862164544735\n",
      "W=\n",
      "0.29256938855488984\n",
      "b=\n",
      "0.49230169833258675\n",
      "Epoch:\n",
      "0150\n",
      "cost=\n",
      "0.08216896362778606\n",
      "W=\n",
      "0.29001340685813926\n",
      "b=\n",
      "0.5106892475755477\n",
      "Epoch:\n",
      "0200\n",
      "cost=\n",
      "0.08156795987766097\n",
      "W=\n",
      "0.28760944123449095\n",
      "b=\n",
      "0.5279832040774313\n",
      "Epoch:\n",
      "0250\n",
      "cost=\n",
      "0.08103652004507544\n",
      "W=\n",
      "0.28534845058380326\n",
      "b=\n",
      "0.5442486088650512\n",
      "Epoch:\n",
      "0300\n",
      "cost=\n",
      "0.08056660367120239\n",
      "W=\n",
      "0.28322193152204567\n",
      "b=\n",
      "0.5595466346740284\n",
      "Epoch:\n",
      "0350\n",
      "cost=\n",
      "0.08015109897338235\n",
      "W=\n",
      "0.28122188640083184\n",
      "b=\n",
      "0.5739348160139869\n",
      "Epoch:\n",
      "0400\n",
      "cost=\n",
      "0.07978371562246367\n",
      "W=\n",
      "0.2793407932289771\n",
      "b=\n",
      "0.5874672655507152\n",
      "Epoch:\n",
      "0450\n",
      "cost=\n",
      "0.0794588898974416\n",
      "W=\n",
      "0.277571577382961\n",
      "b=\n",
      "0.6001948776190661\n",
      "Epoch:\n",
      "0500\n",
      "cost=\n",
      "0.07917170078875599\n",
      "W=\n",
      "0.2759075849999002\n",
      "b=\n",
      "0.6121655196320117\n",
      "Epoch:\n",
      "0550\n",
      "cost=\n",
      "0.0789177957865016\n",
      "W=\n",
      "0.274342557952963\n",
      "b=\n",
      "0.6234242121057137\n",
      "Epoch:\n",
      "0600\n",
      "cost=\n",
      "0.07869332523566322\n",
      "W=\n",
      "0.27287061031511406\n",
      "b=\n",
      "0.634013297977656\n",
      "Epoch:\n",
      "0650\n",
      "cost=\n",
      "0.0784948842695121\n",
      "W=\n",
      "0.27148620622266817\n",
      "b=\n",
      "0.6439726018546622\n",
      "Epoch:\n",
      "0700\n",
      "cost=\n",
      "0.07831946144643755\n",
      "W=\n",
      "0.27018413905539995\n",
      "b=\n",
      "0.6533395797896867\n",
      "Epoch:\n",
      "0750\n",
      "cost=\n",
      "0.07816439331644526\n",
      "W=\n",
      "0.26895951185491046\n",
      "b=\n",
      "0.6621494601506834\n",
      "Epoch:\n",
      "0800\n",
      "cost=\n",
      "0.07802732423286504\n",
      "W=\n",
      "0.2678077189076042\n",
      "b=\n",
      "0.6704353761113543\n",
      "Epoch:\n",
      "0850\n",
      "cost=\n",
      "0.07790617080380904\n",
      "W=\n",
      "0.2667244284230108\n",
      "b=\n",
      "0.6782284902620607\n",
      "Epoch:\n",
      "0900\n",
      "cost=\n",
      "0.07779909044780774\n",
      "W=\n",
      "0.26570556624230784\n",
      "b=\n",
      "0.6855581118095395\n",
      "Epoch:\n",
      "0950\n",
      "cost=\n",
      "0.07770445357986415\n",
      "W=\n",
      "0.2647473005157735\n",
      "b=\n",
      "0.6924518068062181\n",
      "Epoch:\n",
      "1000\n",
      "cost=\n",
      "0.07762081900885288\n",
      "W=\n",
      "0.2638460272915415\n",
      "b=\n",
      "0.6989355018236741\n",
      "Optimization Finished!\n",
      "Training cost=\n",
      "0.07761924952715166\n",
      "W=\n",
      "0.263828559523301\n",
      "b=\n",
      "0.6990611636971903\n",
      "\\n\n",
      "time elapsed \n",
      "30\n"
     ]
    }
   ],
   "source": [
    "# Train\n",
    "start_time = Time.now\n",
    "\n",
    "sess.run(init)\n",
    "(0..training_epochs).each do |epoch|\n",
    "  train_X.zip(train_Y).each do |x,y|\n",
    "    sess.run(optimizer, feed_dict: {X => x, Y => y})\n",
    "  end\n",
    "\n",
    "  if (epoch+1) % display_step == 0\n",
    "    # Save the variables to disk.\n",
    "    c = sess.run(cost, feed_dict: {X => train_X, Y => train_Y})\n",
    "    puts(\"Epoch:\", '%04d' % (epoch+1), \"cost=\",  c, \\\n",
    "        \"W=\", sess.run(W), \"b=\", sess.run(b))\n",
    "  end\n",
    "end\n",
    "\n",
    "puts(\"Optimization Finished!\")\n",
    "training_cost = sess.run(cost, feed_dict: { X => train_X, Y => train_Y})\n",
    "puts(\"Training cost=\", training_cost, \"W=\", sess.run(W), \"b=\", sess.run(b), '\\n')\n",
    "puts(\"time elapsed \", Time.now.to_i - start_time.to_i)"
   ]
  },
  {
   "cell_type": "code",
   "execution_count": 13,
   "metadata": {},
   "outputs": [
    {
     "data": {
      "text/plain": [
       "3.3373467589302"
      ]
     },
     "execution_count": 13,
     "metadata": {},
     "output_type": "execute_result"
    }
   ],
   "source": [
    "# Predict\n",
    "y_predict = sess.run(pred, feed_dict: {X => 10.0 })"
   ]
  },
  {
   "cell_type": "code",
   "execution_count": null,
   "metadata": {},
   "outputs": [],
   "source": []
  }
 ],
 "metadata": {
  "kernelspec": {
   "display_name": "Ruby 2.4.0",
   "language": "ruby",
   "name": "ruby"
  },
  "language_info": {
   "file_extension": ".rb",
   "mimetype": "application/x-ruby",
   "name": "ruby",
   "version": "2.4.0"
  }
 },
 "nbformat": 4,
 "nbformat_minor": 2
}
